{
  "nbformat": 4,
  "nbformat_minor": 0,
  "metadata": {
    "colab": {
      "provenance": [],
      "authorship_tag": "ABX9TyMzVgiLnEqCc64WseyV27nj",
      "include_colab_link": true
    },
    "kernelspec": {
      "name": "python3",
      "display_name": "Python 3"
    },
    "language_info": {
      "name": "python"
    }
  },
  "cells": [
    {
      "cell_type": "markdown",
      "metadata": {
        "id": "view-in-github",
        "colab_type": "text"
      },
      "source": [
        "<a href=\"https://colab.research.google.com/github/BenjaAR/SEM11_ALGORITMOS/blob/main/SEMANA_11_ALGORITMOS_GEN%C3%89TICOS_Y_EVOLUCI%C3%93N_DE_LA_POBLACI%C3%93N_AQUINO_REYES.ipynb\" target=\"_parent\"><img src=\"https://colab.research.google.com/assets/colab-badge.svg\" alt=\"Open In Colab\"/></a>"
      ]
    },
    {
      "cell_type": "markdown",
      "source": [
        "# SEMANA 11: ALGORITMOS GENÉTICOS Y EVOLUCIÓN DE LA POBLACIÓN\n",
        "\n",
        "## Nombre: Aquino Reyes Benjy Alvaro\n"
      ],
      "metadata": {
        "id": "G1TSKjkX9BP7"
      }
    },
    {
      "cell_type": "code",
      "execution_count": 1,
      "metadata": {
        "colab": {
          "base_uri": "https://localhost:8080/"
        },
        "id": "yn-jbtMn0dU3",
        "outputId": "9067a671-0423-4366-fdb4-c958324c9c73"
      },
      "outputs": [
        {
          "output_type": "stream",
          "name": "stdout",
          "text": [
            "Mounted at /content/drive\n"
          ]
        }
      ],
      "source": [
        "from google.colab import drive\n",
        "drive.mount('/content/drive')\n"
      ]
    },
    {
      "cell_type": "code",
      "source": [
        "import pandas as pd\n",
        "import numpy as np\n",
        "import matplotlib.pyplot as plt\n",
        "from sklearn.preprocessing import StandardScaler\n",
        "from sklearn.impute import SimpleImputer\n",
        "from sklearn.linear_model import LinearRegression\n",
        "from sklearn.model_selection import train_test_split\n",
        "from sklearn.metrics import r2_score\n",
        "from deap import base, creator, tools, algorithms\n",
        "import random\n",
        "from scipy import stats\n",
        "\n",
        "# Cargar los datos\n",
        "file_path = '/content/drive/MyDrive/Tecsup/5° Ciclo - 2025 - I/Minería de Datos/SEM11/Advertising-1.csv'\n",
        "data = pd.read_csv(file_path)\n",
        "\n",
        "# Preprocesamiento de los datos\n",
        "# Análisis de datos faltantes\n",
        "missing_data = data.isnull().sum()\n",
        "print(f\"Datos faltantes:\\n{missing_data}\\n\")\n",
        "\n",
        "# Imputar datos faltantes usando la media\n",
        "imputer = SimpleImputer(strategy='mean')\n",
        "data_imputed = pd.DataFrame(imputer.fit_transform(data), columns=data.columns)\n",
        "\n",
        "# Tratamiento de outliers a nivel univariado (usamos el Z-score)\n",
        "z_scores = np.abs(stats.zscore(data_imputed.select_dtypes(include=[np.number])))\n",
        "outliers = (z_scores > 3).all(axis=1)  # Filtrar registros con outliers en todas las columnas\n",
        "data_no_outliers = data_imputed[~outliers]\n",
        "\n",
        "# Escalamiento de las variables numéricas (StandardScaler)\n",
        "scaler = StandardScaler()\n",
        "data_scaled = pd.DataFrame(scaler.fit_transform(data_no_outliers.select_dtypes(include=[np.number])),\n",
        "                           columns=data_no_outliers.select_dtypes(include=[np.number]).columns)\n",
        "\n",
        "# Añadir las variables no numéricas al conjunto escalado\n",
        "data_final = pd.concat([data_no_outliers.select_dtypes(exclude=[np.number]), data_scaled], axis=1)\n",
        "\n",
        "# Visualizar los primeros datos procesados\n",
        "print(data_final.head())\n",
        "\n",
        "# Crear tipos básicos para el algoritmo genético\n",
        "creator.create(\"FitnessMax\", base.Fitness, weights=(1.0,))\n",
        "creator.create(\"Individual\", list, fitness=creator.FitnessMax)\n",
        "\n",
        "# Función para crear un individuo (subconjunto de variables)\n",
        "def create_individual():\n",
        "    return [random.randint(0, 1) for _ in range(data_final.shape[1] - 1)]  # Excluyendo la columna objetivo 'Sales'\n",
        "\n",
        "# Función para evaluar la calidad de un individuo\n",
        "def evaluate(individual):\n",
        "    selected_features = [i for i in range(len(individual)) if individual[i] == 1]\n",
        "    if len(selected_features) == 0:\n",
        "        return 0,  # Penalizamos los individuos sin variables seleccionadas\n",
        "    X = data_final.iloc[:, selected_features]\n",
        "    y = data_final['Sales']\n",
        "\n",
        "    X_train, X_test, y_train, y_test = train_test_split(X, y, test_size=0.2, random_state=42)\n",
        "\n",
        "    # Entrenamiento del modelo de regresión lineal\n",
        "    model = LinearRegression()\n",
        "    model.fit(X_train, y_train)\n",
        "    y_pred = model.predict(X_test)\n",
        "\n",
        "    # Cálculo de R2\n",
        "    r2 = r2_score(y_test, y_pred)\n",
        "    return r2,  # El valor debe estar dentro de una tupla\n",
        "\n",
        "# Crear el conjunto de herramientas para el algoritmo genético\n",
        "toolbox = base.Toolbox()\n",
        "toolbox.register(\"individual\", tools.initIterate, creator.Individual, create_individual)\n",
        "toolbox.register(\"population\", tools.initRepeat, list, toolbox.individual)\n",
        "toolbox.register(\"mate\", tools.cxTwoPoint)\n",
        "toolbox.register(\"mutate\", tools.mutFlipBit, indpb=0.1)\n",
        "toolbox.register(\"select\", tools.selTournament, tournsize=3)\n",
        "toolbox.register(\"evaluate\", evaluate)\n",
        "\n",
        "# Configuración de parámetros\n",
        "population_size = 50\n",
        "prob_crossover = 0.7\n",
        "prob_mutation = 0.2\n",
        "generations = 50\n",
        "\n",
        "# Crear población inicial\n",
        "population = toolbox.population(n=population_size)\n",
        "\n",
        "# Listas para almacenar la evolución del R² en cada generación\n",
        "r2_evolution = []\n",
        "\n",
        "# Ejecutar el algoritmo genético\n",
        "for gen in range(generations):\n",
        "    offspring = toolbox.select(population, len(population))\n",
        "    offspring = list(map(toolbox.clone, offspring))\n",
        "\n",
        "    # Aplicar cruce y mutación\n",
        "    for child1, child2 in zip(offspring[::2], offspring[1::2]):\n",
        "        if random.random() < prob_crossover:\n",
        "            toolbox.mate(child1, child2)\n",
        "            del child1.fitness.values\n",
        "            del child2.fitness.values\n",
        "\n",
        "    for mutant in offspring:\n",
        "        if random.random() < prob_mutation:\n",
        "            toolbox.mutate(mutant)\n",
        "            del mutant.fitness.values\n",
        "\n",
        "    # Evaluar fitness de los individuos modificados\n",
        "    invalid_individuals = [ind for ind in offspring if not ind.fitness.valid]\n",
        "    for ind in invalid_individuals:\n",
        "        ind.fitness.values = toolbox.evaluate(ind)\n",
        "\n",
        "    # Reemplazar la población con la descendencia\n",
        "    population[:] = offspring\n",
        "\n",
        "    # Obtener el R² de la mejor solución de esta generación\n",
        "    best_individual = tools.selBest(population, 1)[0]\n",
        "    r2_evolution.append(best_individual.fitness.values[0])\n",
        "\n",
        "# Graficar la evolución de R²\n",
        "generations_range = range(1, generations + 1)\n",
        "plt.plot(generations_range, r2_evolution)\n",
        "plt.xlabel('Generaciones')\n",
        "plt.ylabel('R²')\n",
        "plt.title('Evolución del Coeficiente de Determinación (R²)')\n",
        "plt.show()\n",
        "\n",
        "# Mostrar el mejor individuo y su R²\n",
        "best_individual = tools.selBest(population, 1)[0]\n",
        "print(f\"Mejor individuo: {best_individual}\")\n"
      ],
      "metadata": {
        "colab": {
          "base_uri": "https://localhost:8080/",
          "height": 804
        },
        "id": "Yvvr-6ye7u6H",
        "outputId": "b43493dd-e3ee-4ac7-a9b6-6ada7e2faf83"
      },
      "execution_count": 26,
      "outputs": [
        {
          "output_type": "stream",
          "name": "stdout",
          "text": [
            "Datos faltantes:\n",
            "TV           0\n",
            "Radio        0\n",
            "Newspaper    0\n",
            "Sales        0\n",
            "dtype: int64\n",
            "\n",
            "         TV     Radio  Newspaper     Sales\n",
            "0  0.969852  0.981522   1.778945  1.552053\n",
            "1 -1.197376  1.082808   0.669579 -0.696046\n",
            "2 -1.516155  1.528463   1.783549 -0.907406\n",
            "3  0.052050  1.217855   1.286405  0.860330\n",
            "4  0.394182 -0.841614   1.281802 -0.215683\n"
          ]
        },
        {
          "output_type": "stream",
          "name": "stderr",
          "text": [
            "/usr/local/lib/python3.11/dist-packages/deap/creator.py:185: RuntimeWarning: A class named 'FitnessMax' has already been created and it will be overwritten. Consider deleting previous creation of that class or rename it.\n",
            "  warnings.warn(\"A class named '{0}' has already been created and it \"\n",
            "/usr/local/lib/python3.11/dist-packages/deap/creator.py:185: RuntimeWarning: A class named 'Individual' has already been created and it will be overwritten. Consider deleting previous creation of that class or rename it.\n",
            "  warnings.warn(\"A class named '{0}' has already been created and it \"\n"
          ]
        },
        {
          "output_type": "display_data",
          "data": {
            "text/plain": [
              "<Figure size 640x480 with 1 Axes>"
            ],
            "image/png": "[encoded data removed]"
          },
          "metadata": {}
        },
        {
          "output_type": "stream",
          "name": "stdout",
          "text": [
            "Mejor individuo: [1, 1, 0]\n"
          ]
        }
      ]
    },
    {
      "cell_type": "code",
      "source": [
        "# Seleccionar las mejores variables según el algoritmo genético\n",
        "best_selected_features = [i for i in range(len(best_individual)) if best_individual[i] == 1]\n",
        "\n",
        "# Crear los datos de entrenamiento y prueba con las mejores variables\n",
        "X_best = data_final.iloc[:, best_selected_features]\n",
        "y_best = data_final['Sales']\n",
        "X_train, X_test, y_train, y_test = train_test_split(X_best, y_best, test_size=0.2, random_state=42)\n",
        "\n",
        "# Entrenamiento del modelo de regresión lineal\n",
        "model = LinearRegression()\n",
        "model.fit(X_train, y_train)\n",
        "\n",
        "# Mostrar los coeficientes del modelo\n",
        "coefficients = model.coef_\n",
        "intercept = model.intercept_\n",
        "\n",
        "# Mostrar los coeficientes con los nombres de las variables\n",
        "feature_names = data_final.columns[best_selected_features]\n",
        "coef_df = pd.DataFrame({\n",
        "    'Variable': feature_names,\n",
        "    'Coeficiente': coefficients\n",
        "})\n",
        "\n",
        "print(\"\\nCoeficientes del modelo de regresión lineal:\")\n",
        "print(coef_df)"
      ],
      "metadata": {
        "colab": {
          "base_uri": "https://localhost:8080/"
        },
        "id": "eXTmdh7A8kG8",
        "outputId": "49235425-2f75-4d34-9db2-6fe4a72ef385"
      },
      "execution_count": 27,
      "outputs": [
        {
          "output_type": "stream",
          "name": "stdout",
          "text": [
            "\n",
            "Coeficientes del modelo de regresión lineal:\n",
            "  Variable  Coeficiente\n",
            "0       TV     0.736013\n",
            "1    Radio     0.542563\n"
          ]
        }
      ]
    },
    {
      "cell_type": "code",
      "source": [
        "# Mostrar la ecuación de la regresión\n",
        "feature_names = data_final.columns[best_selected_features]\n",
        "equation = \"Sales = {:.4f}\".format(intercept)\n",
        "\n",
        "# Añadir los coeficientes para cada variable seleccionada\n",
        "for name, coef in zip(feature_names, coefficients):\n",
        "    equation += \" + ({:.4f}) * {}\".format(coef, name)\n",
        "\n",
        "print(\"\\nEcuación de la regresión lineal:\")\n",
        "print(equation)"
      ],
      "metadata": {
        "colab": {
          "base_uri": "https://localhost:8080/"
        },
        "id": "rZ6I23gi8xPk",
        "outputId": "7d559189-50e9-4c11-ac22-226baef4e841"
      },
      "execution_count": 28,
      "outputs": [
        {
          "output_type": "stream",
          "name": "stdout",
          "text": [
            "\n",
            "Ecuación de la regresión lineal:\n",
            "Sales = 0.0035 + (0.7360) * TV + (0.5426) * Radio\n"
          ]
        }
      ]
    }
  ]
}